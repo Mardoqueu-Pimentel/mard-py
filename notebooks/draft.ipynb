{
 "cells": [
  {
   "cell_type": "code",
   "execution_count": 1,
   "metadata": {},
   "outputs": [],
   "source": [
    "%load_ext autoreload\n",
    "%autoreload 2"
   ]
  },
  {
   "cell_type": "code",
   "execution_count": 70,
   "metadata": {},
   "outputs": [
    {
     "name": "stdout",
     "output_type": "stream",
     "text": [
      "OAB/SP. 87.910\n",
      "OAB/SP 203.728\n",
      "OAB/SP 21.376\n"
     ]
    }
   ],
   "source": [
    "from itertools import islice\n",
    "from mard.brazilian_document.oab import oab_pattern, oab_pattern_complex\n",
    "from pathlib import Path\n",
    "from bs4 import BeautifulSoup\n",
    "import json\n",
    "import re\n",
    "\n",
    "\n",
    "next_file = next(islice(Path('/home/mard/attachments').glob('*.json'), 7, None))\n",
    "with next_file.open() as f:\n",
    "    obj = json.load(f)\n",
    "    soup = BeautifulSoup(obj['content'])\n",
    "    \n",
    "    for x in oab_pattern.finditer(soup.text):\n",
    "        for k, v in x.groupdict().items():\n",
    "            print(v)"
   ]
  },
  {
   "cell_type": "code",
   "execution_count": null,
   "metadata": {
    "scrolled": false
   },
   "outputs": [
    {
     "data": {
      "application/vnd.jupyter.widget-view+json": {
       "model_id": "688a88e50bb5444087d1a628dff50815",
       "version_major": 2,
       "version_minor": 0
      },
      "text/plain": [
       "HBox(children=(FloatProgress(value=1.0, bar_style='info', max=1.0), HTML(value='')))"
      ]
     },
     "metadata": {},
     "output_type": "display_data"
    }
   ],
   "source": [
    "from itertools import islice\n",
    "from mard.lazy import as_chunks\n",
    "from mard.concurrent import pipeline\n",
    "from tqdm.auto import tqdm\n",
    "from random import sample\n",
    "import re\n",
    "\n",
    "\n",
    "def producer():\n",
    "    def get_files():\n",
    "        files = Path('/home/mard/attachments').glob('*.json')\n",
    "        for file in files:\n",
    "            with file.open() as f:\n",
    "                yield f.read()\n",
    "    yield from as_chunks(get_files(), 100)\n",
    "    \n",
    "def process_one(obj: dict):\n",
    "    text = BeautifulSoup(obj['content'], features='lxml').text\n",
    "    return [\n",
    "        v\n",
    "        for match in oab_pattern.finditer(text)\n",
    "        for k, v in match.groupdict().items()\n",
    "        if v\n",
    "    ]\n",
    "\n",
    "def mapper(chunk):\n",
    "    return [\n",
    "        process_one(json.loads(x))\n",
    "        for x in chunk\n",
    "    ]\n",
    "\n",
    "results = (\n",
    "    result\n",
    "    for chunk in pipeline(producer, mapper)\n",
    "    for result in chunk\n",
    ")\n",
    "\n",
    "findings = []\n",
    "for result in tqdm(results):\n",
    "    for finding in result:\n",
    "        findings.append(finding)"
   ]
  },
  {
   "cell_type": "code",
   "execution_count": 55,
   "metadata": {},
   "outputs": [
    {
     "data": {
      "text/plain": [
       "('OAB', '0 Registro OAB/AC nº 005ES')"
      ]
     },
     "execution_count": 55,
     "metadata": {},
     "output_type": "execute_result"
    }
   ],
   "source": [
    "findings[2]"
   ]
  }
 ],
 "metadata": {
  "kernelspec": {
   "display_name": "Python 3",
   "language": "python",
   "name": "python3"
  },
  "language_info": {
   "codemirror_mode": {
    "name": "ipython",
    "version": 3
   },
   "file_extension": ".py",
   "mimetype": "text/x-python",
   "name": "python",
   "nbconvert_exporter": "python",
   "pygments_lexer": "ipython3",
   "version": "3.7.6"
  }
 },
 "nbformat": 4,
 "nbformat_minor": 4
}
