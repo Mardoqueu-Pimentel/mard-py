{
 "cells": [
  {
   "cell_type": "code",
   "execution_count": 1,
   "metadata": {},
   "outputs": [],
   "source": [
    "%load_ext autoreload\n",
    "%autoreload 2"
   ]
  },
  {
   "cell_type": "code",
   "execution_count": 3,
   "metadata": {},
   "outputs": [
    {
     "ename": "ModuleNotFoundError",
     "evalue": "No module named 'bs4'",
     "output_type": "error",
     "traceback": [
      "\u001b[0;31m---------------------------------------------------------------------------\u001b[0m",
      "\u001b[0;31mModuleNotFoundError\u001b[0m                       Traceback (most recent call last)",
      "\u001b[0;32m<ipython-input-3-eb13b145dfb3>\u001b[0m in \u001b[0;36m<module>\u001b[0;34m\u001b[0m\n\u001b[1;32m      2\u001b[0m \u001b[0;32mfrom\u001b[0m \u001b[0mmard\u001b[0m\u001b[0;34m.\u001b[0m\u001b[0mbrazilian_document\u001b[0m\u001b[0;34m.\u001b[0m\u001b[0moab\u001b[0m \u001b[0;32mimport\u001b[0m \u001b[0moab_pattern\u001b[0m\u001b[0;34m,\u001b[0m \u001b[0moab_parser\u001b[0m\u001b[0;34m\u001b[0m\u001b[0;34m\u001b[0m\u001b[0m\n\u001b[1;32m      3\u001b[0m \u001b[0;32mfrom\u001b[0m \u001b[0mpathlib\u001b[0m \u001b[0;32mimport\u001b[0m \u001b[0mPath\u001b[0m\u001b[0;34m\u001b[0m\u001b[0;34m\u001b[0m\u001b[0m\n\u001b[0;32m----> 4\u001b[0;31m \u001b[0;32mfrom\u001b[0m \u001b[0mbs4\u001b[0m \u001b[0;32mimport\u001b[0m \u001b[0mBeautifulSoup\u001b[0m\u001b[0;34m\u001b[0m\u001b[0;34m\u001b[0m\u001b[0m\n\u001b[0m\u001b[1;32m      5\u001b[0m \u001b[0;32mimport\u001b[0m \u001b[0mjson\u001b[0m\u001b[0;34m\u001b[0m\u001b[0;34m\u001b[0m\u001b[0m\n\u001b[1;32m      6\u001b[0m \u001b[0;32mimport\u001b[0m \u001b[0mre\u001b[0m\u001b[0;34m\u001b[0m\u001b[0;34m\u001b[0m\u001b[0m\n",
      "\u001b[0;31mModuleNotFoundError\u001b[0m: No module named 'bs4'"
     ]
    }
   ],
   "source": [
    "from itertools import islice\n",
    "from mard.brazilian_document.oab import oab_pattern, oab_parser\n",
    "from pathlib import Path\n",
    "from bs4 import BeautifulSoup\n",
    "import json\n",
    "import re\n",
    "\n",
    "\n",
    "next_file = next(islice(Path('/home/mard/attachments').glob('*.json'), 7, None))\n",
    "with next_file.open() as f:\n",
    "    obj = json.load(f)\n",
    "    soup = BeautifulSoup(obj['content'])\n",
    "    \n",
    "    print(oab_parser._pattern.pattern)\n",
    "    \n",
    "    for x in oab_parser.parse(soup.text):\n",
    "        print(x)\n",
    "    "
   ]
  },
  {
   "cell_type": "code",
   "execution_count": null,
   "metadata": {
    "scrolled": false
   },
   "outputs": [],
   "source": [
    "from itertools import islice\n",
    "from mard.lazy import as_chunks\n",
    "from mard.concurrent import pipeline\n",
    "from tqdm.auto import tqdm\n",
    "from random import sample\n",
    "import re\n",
    "\n",
    "\n",
    "def producer():\n",
    "    def get_files():\n",
    "        files = Path('/home/mard/attachments').glob('*.json')\n",
    "        for file in files:\n",
    "            with file.open() as f:\n",
    "                yield f.read()\n",
    "    yield from as_chunks(get_files(), 100)\n",
    "    \n",
    "def process_one(obj: dict):\n",
    "    text = BeautifulSoup(obj['content'], features='lxml').text\n",
    "    return list(oab_parser.parse(text))\n",
    "\n",
    "def mapper(chunk):\n",
    "    return [\n",
    "        process_one(json.loads(x))\n",
    "        for x in chunk\n",
    "    ]\n",
    "\n",
    "results = (\n",
    "    result\n",
    "    for chunk in pipeline(producer, mapper)\n",
    "    for result in chunk\n",
    ")\n",
    "\n",
    "findings = []\n",
    "for result in tqdm(results):\n",
    "    for finding in result:\n",
    "        findings.append(finding)"
   ]
  },
  {
   "cell_type": "code",
   "execution_count": 34,
   "metadata": {},
   "outputs": [
    {
     "data": {
      "text/plain": [
       "'381587/SP'"
      ]
     },
     "execution_count": 34,
     "metadata": {},
     "output_type": "execute_result"
    }
   ],
   "source": [
    "findings[22]"
   ]
  }
 ],
 "metadata": {
  "kernelspec": {
   "display_name": "Python 3",
   "language": "python",
   "name": "python3"
  },
  "language_info": {
   "codemirror_mode": {
    "name": "ipython",
    "version": 3
   },
   "file_extension": ".py",
   "mimetype": "text/x-python",
   "name": "python",
   "nbconvert_exporter": "python",
   "pygments_lexer": "ipython3",
   "version": "3.7.6"
  }
 },
 "nbformat": 4,
 "nbformat_minor": 4
}
